{
 "cells": [
  {
   "cell_type": "code",
   "execution_count": null,
   "source": [
    "import numpy as np\r\n",
    "from scipy.integrate import quad\r\n",
    "import scipy.optimize as scpo\r\n",
    "import numpy as np\r\n",
    "import pandas as pd\r\n",
    "from numpy import exp, sqrt\r\n",
    "from geneticalgorithm import geneticalgorithm as ga\r\n",
    "import random"
   ],
   "outputs": [],
   "metadata": {}
  },
  {
   "cell_type": "code",
   "execution_count": null,
   "source": [
    "call_df = pd.read_csv('')\r\n",
    "History = pd.read_csv('')"
   ],
   "outputs": [],
   "metadata": {}
  },
  {
   "cell_type": "code",
   "execution_count": null,
   "source": [
    "def Heston_char_func(u, T, r, kappa_v, theta_v, sigma_v, rho, v0):\r\n",
    "    c1 = kappa_v * theta_v\r\n",
    "    c2 = -np.sqrt((rho * sigma_v * u * 1j - kappa_v) ** 2 -\r\n",
    "                  sigma_v ** 2 * (-u * 1j - u ** 2))\r\n",
    "    c3 = (kappa_v - rho * sigma_v * u * 1j + c2) \\\r\n",
    "        / (kappa_v - rho * sigma_v * u * 1j - c2)\r\n",
    "    H1 = (r * u * 1j * T + (c1 / sigma_v ** 2) *\r\n",
    "          ((kappa_v - rho * sigma_v * u * 1j + c2) * T -\r\n",
    "          2 * np.log((1 - c3 * np.exp(c2 * T)) / (1 - c3))))\r\n",
    "    H2 = ((kappa_v - rho * sigma_v * u * 1j + c2) / sigma_v ** 2 *\r\n",
    "          ((1 - np.exp(c2 * T)) / (1 - c3 * np.exp(c2 * T))))\r\n",
    "    char_func_value = np.exp(H1 + H2 * v0)\r\n",
    "    return char_func_value\r\n",
    "\r\n",
    "def Bates_call(row):\r\n",
    "    u=1000\r\n",
    "    S0 = row.Closing_price\r\n",
    "    K = row.stike\r\n",
    "    T = row.nDiff / 365\r\n",
    "    r = row.r / 100\r\n",
    "    kappa_v=row.kappa_v\r\n",
    "    theta_v=row.theta_v\r\n",
    "    sigma_v=row.sigma_v\r\n",
    "    rho=row.rho\r\n",
    "    v0=row.v0\r\n",
    "    lamb=row.lamb\r\n",
    "    delta=row.delta\r\n",
    "    mu=row.mu\r\n",
    "    int_value = quad(lambda u:\r\n",
    "                     Bates_int_func(u, S0, K, T, r, kappa_v, theta_v,\r\n",
    "                                  sigma_v, rho, v0, lamb, mu, delta),\r\n",
    "                     0, np.inf, limit=250)[0]\r\n",
    "    call_value = max(0, S0 - np.exp(-r * T) * np.sqrt(S0 * K) /\r\n",
    "                     np.pi * int_value)\r\n",
    "    return call_value\r\n",
    "\r\n",
    "def Bates_int_func(u, S0, K, T, r, kappa_v, theta_v, sigma_v, rho, v0,\r\n",
    "                 lamb, mu, delta):\r\n",
    "    char_func_value = Bates_char_func(u - 1j * 0.5, T, r, kappa_v, theta_v,\r\n",
    "                                    sigma_v, rho, v0, lamb, mu, delta)\r\n",
    "    int_func_value = 1 / (u ** 2 + 0.25) \\\r\n",
    "        * (np.exp(1j * u * np.log(S0 / K)) * char_func_value).real\r\n",
    "    return int_func_value\r\n",
    "\r\n",
    "\r\n",
    "def Merton_char_func(u, T, lamb, mu, delta):\r\n",
    "    omega = -lamb * (np.exp(mu + 0.5 * delta ** 2) - 1)\r\n",
    "    char_func_value = np.exp((1j * u * omega + lamb *\r\n",
    "        (np.exp(1j * u * mu - u ** 2 * delta ** 2 * 0.5) - 1)) * T)\r\n",
    "    return char_func_value\r\n",
    "\r\n",
    "\r\n",
    "def Bates_char_func(u, T, r, kappa_v, theta_v, sigma_v, rho, v0,\r\n",
    "                  lamb, mu, delta):\r\n",
    "    BCC1 = Heston_char_func(u, T, r, kappa_v, theta_v, sigma_v, rho, v0)\r\n",
    "    BCC2 = Merton_char_func(u, T, lamb, mu, delta)\r\n",
    "    return BCC1 * BCC2"
   ],
   "outputs": [],
   "metadata": {}
  },
  {
   "cell_type": "markdown",
   "source": [
    "# Non-linear LS calibration"
   ],
   "metadata": {}
  },
  {
   "cell_type": "code",
   "execution_count": null,
   "source": [
    "def Bates_call_value(S0,K,T,r,kappa_v, theta_v, sigma_v, rho, v0,\r\n",
    "                 lamb, mu, delta):\r\n",
    "    u=1000\r\n",
    "    \r\n",
    "    int_value = quad(lambda u:\r\n",
    "                     Bates_int_func(u, S0, K, T, r, kappa_v, theta_v,\r\n",
    "                                  sigma_v, rho, v0, lamb, mu, delta),\r\n",
    "                     0, np.inf, limit=250)[0]\r\n",
    "    call_value = max(0, S0 - np.exp(-r * T) * np.sqrt(S0 * K) /\r\n",
    "                     np.pi * int_value)\r\n",
    "    return call_value\r\n",
    "\r\n",
    "def Bates(x,kappa_v, theta_v, sigma_v, rho, v0,\r\n",
    "                 lamb, mu, delta):\r\n",
    "    K,S0,r,T=x\r\n",
    "    u=1000\r\n",
    "    r=r/100\r\n",
    "    T=T/365\r\n",
    "    return f2(S0,K,T,r,kappa_v, theta_v, sigma_v, rho, v0,\r\n",
    "                 lamb, mu, delta)\r\n",
    "\r\n",
    "f2 = np.vectorize(Bates_call_value) #Vectorize pricer"
   ],
   "outputs": [],
   "metadata": {}
  },
  {
   "cell_type": "code",
   "execution_count": null,
   "source": [
    "init_vals = [0.06, 0.04, 0.2, 0.6, 0.04,1,0.2,0.2]\r\n",
    "bounds = ( [0.001, 0.001, 0.001, -0.9, 0.001,0.001,0.001,0.001] , [1,1,1,1,1,5,1,1])\r\n",
    "params_Bates = scpo.curve_fit(Bates, (call_df.stike.values,call_df.Closing_price.values,call_df.r.values,call_df.nDiff.values),call_df.Close.values, p0=init_vals, bounds=bounds)"
   ],
   "outputs": [],
   "metadata": {}
  },
  {
   "cell_type": "code",
   "execution_count": null,
   "source": [
    "call_df[['kappa_v', 'theta_v', 'sigma_v', 'rho', 'v0',\r\n",
    "                  'lamb','mu', 'delta']] = params_Bates[0] \r\n",
    "\r\n",
    "Bates_params = call_df[['kappa_v', 'theta_v', 'sigma_v', 'rho', 'v0',\r\n",
    "                  'lamb','mu', 'delta']].iloc[0]\r\n",
    "\r\n",
    "Bates_params.to_csv('../Data/Bates_params.csv') #save params"
   ],
   "outputs": [],
   "metadata": {}
  },
  {
   "cell_type": "code",
   "execution_count": null,
   "source": [
    "call_df['Bates'] = call_df.apply(Bates_call, axis=1)"
   ],
   "outputs": [],
   "metadata": {}
  },
  {
   "cell_type": "markdown",
   "source": [
    "# Returns for model with Non-lienar LS calibrated params"
   ],
   "metadata": {}
  },
  {
   "cell_type": "code",
   "execution_count": null,
   "source": [
    "kappa, theta, sigma, v0, rho, lambdaJ, muJ, sigmaJ= Bates_params\r\n",
    "S0 = History[0].close\r\n",
    "NT = len(History)\r\n",
    "NS = 1\r\n",
    "r = 0.001\r\n",
    "q = 0\r\n",
    "dt = 3/365 #Mat/NT\r\n",
    "# Expected value of k, and drift term\r\n",
    "kappa2 = exp(muJ) - 1\r\n",
    "drift = r - q - lambdaJ*kappa2\r\n",
    "# Initialize the variance and stock processes\r\n",
    "V = np.zeros((NT,NS))\r\n",
    "S = np.zeros((NT,NS))\r\n",
    "# Starting values for the variance and stock processes\r\n",
    "S[0,:] = S0       # Spot price\r\n",
    "V[0,:] = v0       # Heston v0 initial variance\r\n",
    "\r\n",
    "# Generate the paths\r\n",
    "for i in range(NS):\r\n",
    "    for t in range(1,NT):\r\n",
    "    # Generate two dependent N(0,1) variables with correlation rho\r\n",
    "        Zv = random.normalvariate(0,1)\r\n",
    "        Zs = rho*Zv + sqrt(1-rho**2)*random.normalvariate(0,1)\r\n",
    "        # Milstein discretization for the variance.\r\n",
    "        V[t,i] = V[t-1,i] + kappa*(theta-V[t-1,i])*dt \\\r\n",
    "        + sigma*sqrt(V[t-1,i]*dt)*Zv \\\r\n",
    "        + (1/4)*sigma**2*dt*(Zv**2-1)\r\n",
    "    # Simulate the lognormal jumps\r\n",
    "        J = 0\r\n",
    "        if lambdaJ != 0:\r\n",
    "            Nt = np.random.poisson(lambdaJ*dt)\r\n",
    "            if Nt > 0:\r\n",
    "                for x in range(Nt):\r\n",
    "                    J = J + random.normalvariate(muJ - sigmaJ**2/2,sigmaJ)\r\n",
    "\r\n",
    "    # Discretize the log stock price\r\n",
    "        S[t,i] = S[t-1,i]*exp((drift-V[t-1,i]/2)*dt + J + sqrt(V[t-1,i]*dt)*Zs)\r\n",
    "S.to_csv('./Bates-stock')"
   ],
   "outputs": [],
   "metadata": {}
  },
  {
   "cell_type": "markdown",
   "source": [
    "# Genetic Algorithm Calibration"
   ],
   "metadata": {}
  },
  {
   "cell_type": "code",
   "execution_count": null,
   "source": [
    "varbound=np.array([[0.01,0.5],[0.01,0.2],[0.15,0.9],[0.01,0.4],[-1,1],[0.01,5],[0,0.1],[0.01,0.1]])\r\n",
    "algorithm_param = {'max_num_iteration': 200,\\\r\n",
    "            'population_size':2700,\\\r\n",
    "            'mutation_probability':0.1,\\\r\n",
    "            'elit_ratio': 0.01,\\\r\n",
    "            'crossover_probability': 0.5,\\\r\n",
    "            'parents_portion': 0.3,\\\r\n",
    "            'crossover_type':'uniform',\\\r\n",
    "            'max_iteration_without_improv':23}"
   ],
   "outputs": [],
   "metadata": {}
  },
  {
   "cell_type": "code",
   "execution_count": null,
   "source": [
    "def Bates_GA(y):\r\n",
    "    global S\r\n",
    "    def f(x):\r\n",
    "        kappa, theta, sigma, v0, rho, lambdaJ, muJ, sigmaJ=x\r\n",
    "        S0 = y[0]\r\n",
    "        NT = len(y)\r\n",
    "        NS = 1\r\n",
    "        r = 0.001\r\n",
    "        q = 0\r\n",
    "        dt = 3/365 #Mat/NT\r\n",
    "        # Expected value of k, and drift term\r\n",
    "        kappa2 = exp(muJ) - 1\r\n",
    "        drift = r - q - lambdaJ*kappa2\r\n",
    "        # Initialize the variance and stock processes\r\n",
    "        V = np.zeros((NT,NS))\r\n",
    "        S = np.zeros((NT,NS))\r\n",
    "        # Starting values for the variance and stock processes\r\n",
    "        S[0,:] = S0       # Spot price\r\n",
    "        V[0,:] = v0       # Heston v0 initial variance\r\n",
    "\r\n",
    "        # Generate the paths\r\n",
    "        for i in range(NS):\r\n",
    "            for t in range(1,NT):\r\n",
    "            # Generate two dependent N(0,1) variables with correlation rho\r\n",
    "                Zv = random.normalvariate(0,1)\r\n",
    "                Zs = rho*Zv + sqrt(1-rho**2)*random.normalvariate(0,1)\r\n",
    "                # Milstein discretization for the variance.\r\n",
    "                V[t,i] = V[t-1,i] + kappa*(theta-V[t-1,i])*dt \\\r\n",
    "                + sigma*sqrt(V[t-1,i]*dt)*Zv \\\r\n",
    "                + (1/4)*sigma**2*dt*(Zv**2-1)\r\n",
    "            # Simulate the lognormal jumps\r\n",
    "                J = 0\r\n",
    "                if lambdaJ != 0:\r\n",
    "                    Nt = np.random.poisson(lambdaJ*dt)\r\n",
    "                    if Nt > 0:\r\n",
    "                        for x in range(Nt):\r\n",
    "                            J = J + random.normalvariate(muJ - sigmaJ**2/2,sigmaJ)\r\n",
    "\r\n",
    "            # Discretize the log stock price\r\n",
    "                S[t,i] = S[t-1,i]*exp((drift-V[t-1,i]/2)*dt + J + sqrt(V[t-1,i]*dt)*Zs)\r\n",
    "        S.to_csv('./Bates-stock-GA')\r\n",
    "        return np.mean((S.reshape(-1)-y)**2)\r\n",
    "\r\n",
    "    model=ga(function=f,\\\r\n",
    "            dimension=8,\\\r\n",
    "            variable_type='real',\\\r\n",
    "            variable_boundaries=varbound,\\\r\n",
    "            algorithm_parameters=algorithm_param,\r\n",
    "         convergence_curve=False,\r\n",
    "         progress_bar=True)\r\n",
    "    model.run()\r\n",
    "    return model.best_variable\r\n"
   ],
   "outputs": [],
   "metadata": {}
  },
  {
   "cell_type": "code",
   "execution_count": null,
   "source": [
    "call_df[['kappa_v', 'theta_v','sigma_v', 'v0', 'rho', 'lamb', 'mu', 'delta']] = Bates_GA(History.Close.values)"
   ],
   "outputs": [],
   "metadata": {}
  },
  {
   "cell_type": "code",
   "execution_count": null,
   "source": [
    "call_df['Bates-GA'] = call_df.apply(Bates_call, axis=1)"
   ],
   "outputs": [],
   "metadata": {}
  },
  {
   "cell_type": "markdown",
   "source": [
    "# Save dataframe"
   ],
   "metadata": {}
  },
  {
   "cell_type": "code",
   "execution_count": null,
   "source": [
    "call_df.to_csv('./Bates-input-output')"
   ],
   "outputs": [],
   "metadata": {}
  },
  {
   "cell_type": "markdown",
   "source": [
    "# Metrics"
   ],
   "metadata": {}
  },
  {
   "cell_type": "code",
   "execution_count": null,
   "source": [
    "from .utilties import utilties"
   ],
   "outputs": [],
   "metadata": {}
  },
  {
   "cell_type": "code",
   "execution_count": null,
   "source": [
    "line1 = utilties.error_metrics(call_df['Close'], call_df['Bates'])"
   ],
   "outputs": [],
   "metadata": {}
  },
  {
   "cell_type": "code",
   "execution_count": null,
   "source": [
    "line2 = utilties.error_metrics(call_df['Close'], call_df['Bates-GA'])"
   ],
   "outputs": [],
   "metadata": {}
  },
  {
   "cell_type": "code",
   "execution_count": null,
   "source": [
    "for line in ([*line1], [*line2]):\r\n",
    "  print('& {:.2f} & {:.2f}\\% & {:.2f}\\% & {:.2f}\\% & {:.2f}\\% & {:.2f}\\% & {:.2f}\\% \\\\\\\\'.format(*line))"
   ],
   "outputs": [],
   "metadata": {}
  }
 ],
 "metadata": {
  "kernelspec": {
   "display_name": "Python 3",
   "language": "python",
   "name": "python3"
  },
  "language_info": {
   "codemirror_mode": {
    "name": "ipython",
    "version": 3
   },
   "file_extension": ".py",
   "mimetype": "text/x-python",
   "name": "python",
   "nbconvert_exporter": "python",
   "pygments_lexer": "ipython3",
   "version": "3.8.8"
  }
 },
 "nbformat": 4,
 "nbformat_minor": 5
}