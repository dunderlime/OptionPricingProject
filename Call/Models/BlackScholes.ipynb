{
 "cells": [
  {
   "cell_type": "code",
   "execution_count": 26,
   "source": [
    "import numpy as np\r\n",
    "import pandas as pd\r\n",
    "from scipy.stats import norm\r\n",
    "from geneticalgorithm import geneticalgorithm as ga"
   ],
   "outputs": [],
   "metadata": {
    "collapsed": true
   }
  },
  {
   "cell_type": "code",
   "execution_count": 27,
   "source": [
    "call_df = pd.read_csv('') # Call options\r\n",
    "History = pd.read_csv('') # Stock-price"
   ],
   "outputs": [],
   "metadata": {
    "collapsed": true
   }
  },
  {
   "cell_type": "code",
   "execution_count": 28,
   "source": [
    "call_df = call_df.set_index('Date')"
   ],
   "outputs": [],
   "metadata": {
    "collapsed": true
   }
  },
  {
   "cell_type": "code",
   "execution_count": 29,
   "source": [
    "call_df.head(5)"
   ],
   "outputs": [
    {
     "output_type": "execute_result",
     "data": {
      "text/html": [
       "<div>\n",
       "<style scoped>\n",
       "    .dataframe tbody tr th:only-of-type {\n",
       "        vertical-align: middle;\n",
       "    }\n",
       "\n",
       "    .dataframe tbody tr th {\n",
       "        vertical-align: top;\n",
       "    }\n",
       "\n",
       "    .dataframe thead th {\n",
       "        text-align: right;\n",
       "    }\n",
       "</style>\n",
       "<table border=\"1\" class=\"dataframe\">\n",
       "  <thead>\n",
       "    <tr style=\"text-align: right;\">\n",
       "      <th></th>\n",
       "      <th>stike</th>\n",
       "      <th>Close</th>\n",
       "      <th>nDiff</th>\n",
       "      <th>r</th>\n",
       "      <th>Closing_price</th>\n",
       "      <th>sigma_20</th>\n",
       "    </tr>\n",
       "    <tr>\n",
       "      <th>Date</th>\n",
       "      <th></th>\n",
       "      <th></th>\n",
       "      <th></th>\n",
       "      <th></th>\n",
       "      <th></th>\n",
       "      <th></th>\n",
       "    </tr>\n",
       "  </thead>\n",
       "  <tbody>\n",
       "    <tr>\n",
       "      <th>1/1/2018</th>\n",
       "      <td>9400.0</td>\n",
       "      <td>2397.15</td>\n",
       "      <td>724.0</td>\n",
       "      <td>7.33</td>\n",
       "      <td>10486.4502</td>\n",
       "      <td>0.0059</td>\n",
       "    </tr>\n",
       "    <tr>\n",
       "      <th>1/1/2018</th>\n",
       "      <td>11000.0</td>\n",
       "      <td>40.60</td>\n",
       "      <td>52.0</td>\n",
       "      <td>7.33</td>\n",
       "      <td>10486.4502</td>\n",
       "      <td>0.0059</td>\n",
       "    </tr>\n",
       "    <tr>\n",
       "      <th>1/1/2018</th>\n",
       "      <td>11050.0</td>\n",
       "      <td>32.25</td>\n",
       "      <td>52.0</td>\n",
       "      <td>7.33</td>\n",
       "      <td>10486.4502</td>\n",
       "      <td>0.0059</td>\n",
       "    </tr>\n",
       "    <tr>\n",
       "      <th>1/1/2018</th>\n",
       "      <td>4100.0</td>\n",
       "      <td>3060.65</td>\n",
       "      <td>178.0</td>\n",
       "      <td>7.33</td>\n",
       "      <td>10486.4502</td>\n",
       "      <td>0.0059</td>\n",
       "    </tr>\n",
       "    <tr>\n",
       "      <th>1/1/2018</th>\n",
       "      <td>4000.0</td>\n",
       "      <td>6262.10</td>\n",
       "      <td>178.0</td>\n",
       "      <td>7.33</td>\n",
       "      <td>10486.4502</td>\n",
       "      <td>0.0059</td>\n",
       "    </tr>\n",
       "  </tbody>\n",
       "</table>\n",
       "</div>"
      ],
      "text/plain": [
       "            stike    Close  nDiff     r  Closing_price  sigma_20\n",
       "Date                                                            \n",
       "1/1/2018   9400.0  2397.15  724.0  7.33     10486.4502    0.0059\n",
       "1/1/2018  11000.0    40.60   52.0  7.33     10486.4502    0.0059\n",
       "1/1/2018  11050.0    32.25   52.0  7.33     10486.4502    0.0059\n",
       "1/1/2018   4100.0  3060.65  178.0  7.33     10486.4502    0.0059\n",
       "1/1/2018   4000.0  6262.10  178.0  7.33     10486.4502    0.0059"
      ]
     },
     "metadata": {},
     "execution_count": 29
    }
   ],
   "metadata": {}
  },
  {
   "cell_type": "markdown",
   "source": [
    "The volatility is already calculated as the rolling average of the underlying asset, with a window size equal to 20. This is one of the most, if not the most, comon way of estimating volatility."
   ],
   "metadata": {}
  },
  {
   "cell_type": "code",
   "execution_count": 30,
   "source": [
    "def black_scholes(row):\r\n",
    "    S = row.Closing_price\r\n",
    "    X = row.stike\r\n",
    "    T = row.nDiff / 365\r\n",
    "    r = row.r / 100\r\n",
    "    σ = row.sigma_20\r\n",
    "    d1 = (np.log(S / X) + (r + (σ ** 2) / 2) * T) / (σ * (T ** .5))\r\n",
    "    d2 = d1 - σ * (T ** .5)\r\n",
    "    C = S * norm.cdf(d1) - X * np.exp(-r * T) * norm.cdf(d2)\r\n",
    "    return C"
   ],
   "outputs": [],
   "metadata": {
    "collapsed": true
   }
  },
  {
   "cell_type": "code",
   "execution_count": null,
   "source": [
    "call_df['black_scholes_pred'] = call_df.apply(black_scholes, axis=1)"
   ],
   "outputs": [],
   "metadata": {}
  },
  {
   "cell_type": "code",
   "execution_count": 34,
   "source": [
    "def gen_normal(self,n_step=25):\r\n",
    "        x0=0\r\n",
    "        w = np.ones(n_step)*x0\r\n",
    "        \r\n",
    "        for i in range(1,n_step):\r\n",
    "            # Sampling from the Normal distribution\r\n",
    "            yi = np.random.normal()\r\n",
    "            # Weiner process\r\n",
    "            w[i] = w[i-1]+(yi/np.sqrt(n_step))\r\n",
    "        \r\n",
    "        return w"
   ],
   "outputs": [],
   "metadata": {
    "collapsed": true
   }
  },
  {
   "cell_type": "code",
   "execution_count": null,
   "source": [
    "sigma, mu = BS_params\r\n",
    "n_step = 25 #int(deltaT/dt)\r\n",
    "time_vector = np.linspace(0,1,num=n_step)# Stock variation\r\n",
    "stock_var = (mu-(sigma**2/2))*time_vector\r\n",
    "# Forcefully set the initial value to zero for the stock price simulation\r\n",
    "x0=0\r\n",
    "# Weiner process (calls the `gen_normal` method)\r\n",
    "weiner_process = sigma*gen_normal(n_step)\r\n",
    "# Add two time series, take exponent, and multiply by the initial stock price\r\n",
    "s = History[0].close*(np.exp(stock_var+weiner_process))\r\n",
    "s.to_csv('./BS-stock')"
   ],
   "outputs": [],
   "metadata": {}
  },
  {
   "cell_type": "markdown",
   "source": [
    "# GA Calibration"
   ],
   "metadata": {}
  },
  {
   "cell_type": "code",
   "execution_count": 35,
   "source": [
    "varbound=np.array([[0,1]]*2) #Variable Boundries\r\n",
    "algorithm_param = {'max_num_iteration': 3000,\\\r\n",
    "                   'population_size':100,\\\r\n",
    "                   'mutation_probability':0.1,\\\r\n",
    "                   'elit_ratio': 0.01,\\\r\n",
    "                   'crossover_probability': 0.5,\\\r\n",
    "                   'parents_portion': 0.3,\\\r\n",
    "                   'crossover_type':'uniform',\\\r\n",
    "                   'max_iteration_without_improv':30}"
   ],
   "outputs": [],
   "metadata": {
    "collapsed": true
   }
  },
  {
   "cell_type": "code",
   "execution_count": 36,
   "source": [
    "def GA_BS(Y):\r\n",
    "    def f(X):\r\n",
    "        sigma,mu=X\r\n",
    "        n_step = 25 #int(deltaT/dt)\r\n",
    "        time_vector = np.linspace(0,1,num=n_step)# Stock variation\r\n",
    "        stock_var = (mu-(sigma**2/2))*time_vector\r\n",
    "        # Forcefully set the initial value to zero for the stock price simulation\r\n",
    "        x0=0\r\n",
    "        # Weiner process (calls the `gen_normal` method)\r\n",
    "        weiner_process = sigma*gen_normal(n_step)\r\n",
    "        # Add two time series, take exponent, and multiply by the initial stock price\r\n",
    "        s = Y[0]*(np.exp(stock_var+weiner_process))\r\n",
    "        s.to_csv('./BS-stock-GA')\r\n",
    "        return np.mean((s-Y)**2)\r\n",
    "    model=ga(function=f,\\\r\n",
    "            dimension=2,\\\r\n",
    "            variable_type='real',\\\r\n",
    "            variable_boundaries=varbound,\\\r\n",
    "            algorithm_parameters=algorithm_param,\r\n",
    "         convergence_curve=False,\r\n",
    "         progress_bar=False)\r\n",
    "\r\n",
    "    model.run()\r\n",
    "    return model.best_variable[0]"
   ],
   "outputs": [],
   "metadata": {
    "collapsed": true
   }
  },
  {
   "cell_type": "code",
   "execution_count": null,
   "source": [
    "call_df[['sigma']] = History.Close.apply(GA_BS, raw=True)"
   ],
   "outputs": [],
   "metadata": {}
  },
  {
   "cell_type": "code",
   "execution_count": 43,
   "source": [
    "History_sigma=History.drop(['Close'],axis=1)\r\n",
    "options_df_with_sigma = call_df.join(History_sigma.set_index('Date'))\r\n",
    "call_df=options_df_with_sigma.dropna()"
   ],
   "outputs": [],
   "metadata": {
    "collapsed": true
   }
  },
  {
   "cell_type": "code",
   "execution_count": 45,
   "source": [
    "def black_scholes_GA(row):\r\n",
    "    S = row.Closing_price\r\n",
    "    X = row.stike\r\n",
    "    T = row.nDiff / 365\r\n",
    "    r = row.r / 100\r\n",
    "    σ = row.sigma\r\n",
    "    d1 = (np.log(S / X) + (r + (σ ** 2) / 2) * T) / (σ * (T ** .5))\r\n",
    "    d2 = d1 - σ * (T ** .5)\r\n",
    "    C = S * norm.cdf(d1) - X * np.exp(-r * T) * norm.cdf(d2)\r\n",
    "    return C"
   ],
   "outputs": [],
   "metadata": {
    "collapsed": true
   }
  },
  {
   "cell_type": "code",
   "execution_count": null,
   "source": [
    "call_df['black_scholes_pred-GA'] = call_df.apply(black_scholes_GA, axis=1)"
   ],
   "outputs": [],
   "metadata": {}
  },
  {
   "cell_type": "markdown",
   "source": [
    "# Save dataframe"
   ],
   "metadata": {}
  },
  {
   "cell_type": "code",
   "execution_count": null,
   "source": [
    "call_df.to_csv('./BS-input-output')"
   ],
   "outputs": [],
   "metadata": {}
  },
  {
   "cell_type": "markdown",
   "source": [
    "# Metrics"
   ],
   "metadata": {}
  },
  {
   "cell_type": "code",
   "execution_count": null,
   "source": [
    "from .utilties import utilties"
   ],
   "outputs": [],
   "metadata": {}
  },
  {
   "cell_type": "code",
   "execution_count": 55,
   "source": [
    "line1 = utilties.error_metrics(call_df['Close'], call_df['black_scholes_pred'])"
   ],
   "outputs": [],
   "metadata": {
    "collapsed": true
   }
  },
  {
   "cell_type": "code",
   "execution_count": 56,
   "source": [
    "line2 = utilties.error_metrics(call_df['Close'], call_df['black_scholes_pred-GA'])"
   ],
   "outputs": [],
   "metadata": {
    "collapsed": true
   }
  },
  {
   "cell_type": "code",
   "execution_count": null,
   "source": [
    "for line in ([*line1], [*line2]):\r\n",
    "  print('& {:.2f} & {:.2f}% & {:.2f}% & {:.2f}% & {:.2f}% & {:.2f}% & {:.2f}% \\\\\\\\'.format(*line))"
   ],
   "outputs": [],
   "metadata": {}
  }
 ],
 "metadata": {
  "kernelspec": {
   "display_name": "Python 3",
   "language": "python",
   "name": "python3"
  },
  "language_info": {
   "codemirror_mode": {
    "name": "ipython",
    "version": 3
   },
   "file_extension": ".py",
   "mimetype": "text/x-python",
   "name": "python",
   "nbconvert_exporter": "python",
   "pygments_lexer": "ipython3",
   "version": "3.8.8"
  }
 },
 "nbformat": 4,
 "nbformat_minor": 5
}