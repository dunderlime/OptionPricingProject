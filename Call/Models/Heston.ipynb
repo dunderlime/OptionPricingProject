{
 "cells": [
  {
   "cell_type": "code",
   "execution_count": null,
   "source": [
    "import numpy as np\r\n",
    "from scipy.integrate import quad\r\n",
    "import scipy.optimize as scpo\r\n",
    "import numpy as np\r\n",
    "import pandas as pd\r\n",
    "from geneticalgorithm import geneticalgorithm as ga"
   ],
   "outputs": [],
   "metadata": {}
  },
  {
   "cell_type": "code",
   "execution_count": null,
   "source": [
    "call_df = pd.read_csv('')\r\n",
    "History = pd.read_csv('')"
   ],
   "outputs": [],
   "metadata": {}
  },
  {
   "cell_type": "code",
   "execution_count": null,
   "source": [
    "def Heston_char_func(u, T, r, kappa_v, theta_v, sigma_v, rho, v0):\r\n",
    "    c1 = kappa_v * theta_v\r\n",
    "    c2 = -np.sqrt((rho * sigma_v * u * 1j - kappa_v) ** 2 -\r\n",
    "                  sigma_v ** 2 * (-u * 1j - u ** 2))\r\n",
    "    c3 = (kappa_v - rho * sigma_v * u * 1j + c2) \\\r\n",
    "        / (kappa_v - rho * sigma_v * u * 1j - c2)\r\n",
    "    H1 = (r * u * 1j * T + (c1 / sigma_v ** 2) *\r\n",
    "          ((kappa_v - rho * sigma_v * u * 1j + c2) * T -\r\n",
    "          2 * np.log((1 - c3 * np.exp(c2 * T)) / (1 - c3))))\r\n",
    "    H2 = ((kappa_v - rho * sigma_v * u * 1j + c2) / sigma_v ** 2 *\r\n",
    "          ((1 - np.exp(c2 * T)) / (1 - c3 * np.exp(c2 * T))))\r\n",
    "    char_func_value = np.exp(H1 + H2 * v0)\r\n",
    "    return char_func_value\r\n",
    "\r\n",
    "def Heston_int_func(u, S0, K, T, r, kappa_v, theta_v, sigma_v, rho, v0):\r\n",
    "    char_func_value = Heston_char_func(u - 1j * 0.5, T, r, kappa_v,\r\n",
    "                                    theta_v, sigma_v, rho, v0)\r\n",
    "    int_func_value = 1 / (u ** 2 + 0.25) \\\r\n",
    "        * (np.exp(1j * u * np.log(S0 / K)) * char_func_value).real\r\n",
    "    return int_func_value\r\n",
    "\r\n",
    "def Heston_call_value(u, S0, K, T, r, kappa_v, theta_v, sigma_v, rho, v0):\r\n",
    "    int_value = quad(lambda u:\r\n",
    "                     Heston_int_func(u, S0, K, T, r, kappa_v,\r\n",
    "                                  theta_v, sigma_v, rho, v0),\r\n",
    "                     0, np.inf, limit=250)[0]\r\n",
    "    call_value = max(0, S0 - np.exp(-r * T) * np.sqrt(S0 * K) /\r\n",
    "                     np.pi * int_value)\r\n",
    "    return call_value\r\n",
    "\r\n",
    "f2 = np.vectorize(Heston_call_value) #Vectorize the Heston call pricer"
   ],
   "outputs": [],
   "metadata": {}
  },
  {
   "cell_type": "code",
   "execution_count": null,
   "source": [
    "def Heston_paths(S0, mu, v0, rho, kappa, theta, xi, T, dt):\r\n",
    "    MU  = np.array([0, 0])\r\n",
    "    COV = np.matrix([[1, rho], [rho, 1]])\r\n",
    "    W   = np.random.multivariate_normal(MU, COV, T)\r\n",
    "    W_S = W[:,0]\r\n",
    "    W_v = W[:,1]\r\n",
    "\r\n",
    "    # Generate paths\r\n",
    "    vt    = np.zeros(T)\r\n",
    "    vt[0] = v0\r\n",
    "    St    = np.zeros(T)\r\n",
    "    St[0] = S0\r\n",
    "    for t in range(1,T):\r\n",
    "        vt[t] = np.abs(vt[t-1] + kappa*(theta-np.abs(vt[t-1]))*dt + xi*np.sqrt(np.abs(vt[t-1]))*W_v[t]*np.sqrt(dt))\r\n",
    "        St[t] = St[t-1]*np.exp((mu - 0.5*vt[t-1])*dt + np.sqrt(vt[t-1]*dt)*W_S[t])\r\n",
    "\r\n",
    "    return St"
   ],
   "outputs": [],
   "metadata": {}
  },
  {
   "cell_type": "code",
   "execution_count": null,
   "source": [
    "def Heston_call(row): # Heston pricer for a df\r\n",
    "    S0=row.Closing_price\r\n",
    "    K=row.stike\r\n",
    "    T=row.nDiff/365\r\n",
    "    r=row.r/100\r\n",
    "    kappa_v=row.kappa_v\r\n",
    "    theta_v=row.theta_v\r\n",
    "    sigma_v=row.sigma_v\r\n",
    "    rho=row.rho\r\n",
    "    v0=row.v0\r\n",
    "    u=100\r\n",
    "    \r\n",
    "    int_value = quad(lambda u:\r\n",
    "                     Heston_int_func(u, S0, K, T, r, kappa_v,\r\n",
    "                                  theta_v, sigma_v, rho, v0),\r\n",
    "                     0, np.inf, limit=250)[0]\r\n",
    "    call_value = max(0, S0 - np.exp(-r * T) * np.sqrt(S0 * K) /\r\n",
    "                     np.pi * int_value)\r\n",
    "    return call_value"
   ],
   "outputs": [],
   "metadata": {}
  },
  {
   "cell_type": "markdown",
   "source": [
    "# Non-linear LS Calibration"
   ],
   "metadata": {}
  },
  {
   "cell_type": "code",
   "execution_count": null,
   "source": [
    "def Heston_function(x,kappa_v, theta_v, sigma_v, rho, v0): #Formated for calibration\r\n",
    "    K, S0, r, T = x\r\n",
    "    r = r/100\r\n",
    "    T = T/365\r\n",
    "    u = 10\r\n",
    "    return f2(u, S0, K, T, r, kappa_v, theta_v, sigma_v, rho, v0)"
   ],
   "outputs": [],
   "metadata": {}
  },
  {
   "cell_type": "code",
   "execution_count": null,
   "source": [
    "init_vals = [0.3, 0.1, 0.2, 0.1, 0.4]\r\n",
    "bounds = ([0.05, 0.05, 0.05, -0.9, 0.05] , [1,1,1,1,1])\r\n",
    "params_Heston = scpo.curve_fit(Heston_function, (call_df.stike.values,call_df.Closing_price.values,call_df.r.values,call_df.nDiff.values),call_df.Close.values, p0=init_vals, bounds=bounds)"
   ],
   "outputs": [],
   "metadata": {}
  },
  {
   "cell_type": "code",
   "execution_count": null,
   "source": [
    "call_df[['kappa_v','theta_v','sigma_v','rho','v0']] = params_Heston[0]"
   ],
   "outputs": [],
   "metadata": {}
  },
  {
   "cell_type": "code",
   "execution_count": null,
   "source": [
    "Heston_params = call_df[['kappa_v','theta_v','sigma_v','rho','v0']].iloc[0]\r\n",
    "\r\n",
    "Heston_params.to_csv('./Heston_params.csv') #Save parameters"
   ],
   "outputs": [],
   "metadata": {}
  },
  {
   "cell_type": "code",
   "execution_count": null,
   "source": [
    "call_df['Heston'] = call_df.apply(Heston_call, axis=1)"
   ],
   "outputs": [],
   "metadata": {}
  },
  {
   "cell_type": "markdown",
   "source": [
    "# Returns for model with Non-lienar LS calibrated params"
   ],
   "metadata": {}
  },
  {
   "cell_type": "code",
   "execution_count": null,
   "source": [
    "S0= History[0].close\r\n",
    "kappa,theta, xi, rho, v0 = Heston_params\r\n",
    "T = len(History)\r\n",
    "dt = 1/365\r\n",
    "MU = np.array([0, 0])\r\n",
    "COV = np.matrix([[1, rho], [rho, 1]])\r\n",
    "W = np.random.multivariate_normal(MU, COV, T)\r\n",
    "W_S = W[:,0]\r\n",
    "W_v = W[:,1]\r\n",
    "mu = 0\r\n",
    "# Generate paths\r\n",
    "vt = np.zeros(T)\r\n",
    "vt[0] = v0\r\n",
    "St = np.zeros(T)\r\n",
    "St[0] = S0\r\n",
    "for t in range(1,T):\r\n",
    "    vt[t] = np.abs(vt[t-1] + kappa*(theta-np.abs(vt[t-1]))*dt + xi*np.sqrt(np.abs(vt[t-1]))*W_v[t]*np.sqrt(dt))\r\n",
    "    St[t] = St[t-1]*np.exp((mu - 0.5*vt[t-1])*dt + np.sqrt(vt[t-1]*dt)*W_S[t])\r\n",
    "\r\n",
    "St.to_csv('./Heston-stock')"
   ],
   "outputs": [],
   "metadata": {}
  },
  {
   "cell_type": "markdown",
   "source": [
    "# GA Calibration"
   ],
   "metadata": {}
  },
  {
   "cell_type": "code",
   "execution_count": null,
   "source": [
    "varbound=np.array([[0.01,1],[0.01,1],[0.01,1],[-1,1],[0.01,1]])\r\n",
    "algorithm_param = {'max_num_iteration': 3000,\\\r\n",
    "            'population_size':400,\\\r\n",
    "            'mutation_probability':0.1,\\\r\n",
    "            'elit_ratio': 0.01,\\\r\n",
    "            'crossover_probability': 0.5,\\\r\n",
    "            'parents_portion': 0.3,\\\r\n",
    "            'crossover_type':'uniform',\\\r\n",
    "            'max_iteration_without_improv':23}"
   ],
   "outputs": [],
   "metadata": {}
  },
  {
   "cell_type": "code",
   "execution_count": null,
   "source": [
    "def Heston_GA(y):\r\n",
    "   def f(x):\r\n",
    "    S0= y [0]\r\n",
    "    kappa,theta, xi, rho, v0 = x\r\n",
    "    T = len(y)\r\n",
    "    dt = 1/365\r\n",
    "    MU = np.array([0, 0])\r\n",
    "    COV = np.matrix([[1, rho], [rho, 1]])\r\n",
    "    W = np.random.multivariate_normal(MU, COV, T)\r\n",
    "    W_S = W[:,0]\r\n",
    "    W_v = W[:,1]\r\n",
    "    mu = 0\r\n",
    "    # Generate paths\r\n",
    "    vt = np.zeros(T)\r\n",
    "    vt[0] = v0\r\n",
    "    St = np.zeros(T)\r\n",
    "    St[0] = S0\r\n",
    "    for t in range(1,T):\r\n",
    "        vt[t] = np.abs(vt[t-1] + kappa*(theta-np.abs(vt[t-1]))*dt + xi*np.sqrt(np.abs(vt[t-1]))*W_v[t]*np.sqrt(dt))\r\n",
    "        St[t] = St[t-1]*np.exp((mu - 0.5*vt[t-1])*dt + np.sqrt(vt[t-1]*dt)*W_S[t])\r\n",
    "    \r\n",
    "    St.to_csv('./Heston-stock-GA')\r\n",
    "    return np.mean((St-y)**2)\r\n",
    "   model = ga(function=f,\\\r\n",
    "            dimension=5,\\\r\n",
    "            variable_type='real',\\\r\n",
    "            variable_boundaries=varbound,\\\r\n",
    "            algorithm_parameters=algorithm_param,\r\n",
    "         convergence_curve=False,\r\n",
    "         progress_bar=True)\r\n",
    "\r\n",
    "   model.run()\r\n",
    "   return model.best_variable"
   ],
   "outputs": [],
   "metadata": {}
  },
  {
   "cell_type": "code",
   "execution_count": null,
   "source": [
    "call_df[['mu', 'kappa','theta', 'sigma_v', 'rho', 'v0']] = Heston_GA(History.Close.values)"
   ],
   "outputs": [],
   "metadata": {}
  },
  {
   "cell_type": "code",
   "execution_count": null,
   "source": [
    "call_df['Heston-GA'] = call_df.apply(Heston_call, axis=1)"
   ],
   "outputs": [],
   "metadata": {}
  },
  {
   "cell_type": "markdown",
   "source": [
    "# Save dataframe"
   ],
   "metadata": {}
  },
  {
   "cell_type": "code",
   "execution_count": null,
   "source": [
    "call_df.to_csv('./Heston-input-output')"
   ],
   "outputs": [],
   "metadata": {}
  },
  {
   "cell_type": "markdown",
   "source": [
    "# Metrics"
   ],
   "metadata": {}
  },
  {
   "cell_type": "code",
   "execution_count": null,
   "source": [
    "from .utilties import utilties"
   ],
   "outputs": [],
   "metadata": {}
  },
  {
   "cell_type": "code",
   "execution_count": null,
   "source": [
    "line1 = utilties.error_metrics(call_df['Close'],call_df['Heston'])"
   ],
   "outputs": [],
   "metadata": {}
  },
  {
   "cell_type": "code",
   "execution_count": null,
   "source": [
    "\r\n",
    "line2 = utilties.error_metrics(call_df['Close'],call_df['Heston-GA'])"
   ],
   "outputs": [],
   "metadata": {}
  },
  {
   "cell_type": "code",
   "execution_count": null,
   "source": [
    "for line in ([*line1], [*line2]):\r\n",
    "  print('& {:.2f} & {:.2f}\\% & {:.2f}\\% & {:.2f}\\% & {:.2f}\\% & {:.2f}\\% & {:.2f}\\% \\\\\\\\'.format(*line))"
   ],
   "outputs": [],
   "metadata": {}
  }
 ],
 "metadata": {
  "kernelspec": {
   "display_name": "Python 3",
   "language": "python",
   "name": "python3"
  },
  "language_info": {
   "codemirror_mode": {
    "name": "ipython",
    "version": 3
   },
   "file_extension": ".py",
   "mimetype": "text/x-python",
   "name": "python",
   "nbconvert_exporter": "python",
   "pygments_lexer": "ipython3",
   "version": "3.8.8"
  }
 },
 "nbformat": 4,
 "nbformat_minor": 5
}