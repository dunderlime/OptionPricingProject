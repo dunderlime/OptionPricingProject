{
 "cells": [
  {
   "cell_type": "code",
   "execution_count": null,
   "source": [
    "from geneticalgorithm import geneticalgorithm as ga\r\n",
    "from scipy.stats import norm\r\n",
    "import numpy as np\r\n",
    "import pandas as pd \r\n",
    "import scipy.optimize as scpo"
   ],
   "outputs": [],
   "metadata": {}
  },
  {
   "cell_type": "code",
   "execution_count": null,
   "source": [
    "call_df = pd.read_csv('')\r\n",
    "History = pd.read_csv('')\r\n",
    "\r\n",
    "History['lam'] = 0 #Initiate\r\n",
    "History['m'] = 0 #Initiate\r\n",
    "History['v'] = 0 #Initiate"
   ],
   "outputs": [],
   "metadata": {}
  },
  {
   "cell_type": "code",
   "execution_count": null,
   "source": [
    "def merton_jump_call(row):\r\n",
    "    S = row.Closing_price\r\n",
    "    K = row.stike\r\n",
    "    T = row.nDiff / 365\r\n",
    "    r = row.r / 100\r\n",
    "    sigma = row.sigma\r\n",
    "    m = row.m\r\n",
    "    v = row.v\r\n",
    "    lam = row.lam\r\n",
    "    \r\n",
    "    d1 = (np.log(S / K) + (r + (sigma ** 2) / 2) * T) / (sigma * (T ** .5))\r\n",
    "    d2 = d1 - sigma * (T ** .5)\r\n",
    "    C = S * norm.cdf(d1) - K * np.exp(-r * T) * norm.cdf(d2)\r\n",
    "    \r\n",
    "    p = 0\r\n",
    "    for k in range(100):\r\n",
    "        r_k = r - lam*(m-1) + (k*np.log(m) ) / T\r\n",
    "        sigma_k = np.sqrt( sigma**2 + (k* v** 2) / T)\r\n",
    "        k_fact = np.math.factorial(k)\r\n",
    "        p += (np.exp(-m*lam*T) * (m*lam*T)**k / (k_fact))  * C\r\n",
    "    \r\n",
    "    return p "
   ],
   "outputs": [],
   "metadata": {}
  },
  {
   "cell_type": "markdown",
   "source": [
    "# Non-linear LS Calibration"
   ],
   "metadata": {}
  },
  {
   "cell_type": "code",
   "execution_count": null,
   "source": [
    "def f_Mert(x,σ, lam, m, v):\r\n",
    "    X, S, r, T = x\r\n",
    "    r = r/100\r\n",
    "    T = T/365\r\n",
    "    d1 = (np.log(S / X) + (r + (σ ** 2) / 2) * T) / (σ * (T ** .5))\r\n",
    "    d2 = d1 - σ * (T ** .5)\r\n",
    "    C = S * norm.cdf(d1) - X * np.exp(-r * T) * norm.cdf(d2)\r\n",
    "    p = 0\r\n",
    "    for k in range(21):\r\n",
    "        r_k = r - lam*(m-1) + (k*np.log(m) ) / T\r\n",
    "        sigma_k = np.sqrt( σ**2 + (k* v** 2) / T)\r\n",
    "        k_fact = np.math.factorial(k)\r\n",
    "        p += (np.exp(-m*lam*T) * (m*lam*T)**k / (k_fact))  * C\r\n",
    "    return p \r\n",
    "\r\n",
    "init_vals = [0.2, 1, -0.5, 0.45]\r\n",
    "bounds = ( [0, 0, -np.inf, 0], [1, np.inf, 15, 2] )\r\n",
    "params_Mert = scpo.curve_fit(f_Mert, (call_df.stike.values,call_df.Closing_price.values,call_df.r.values,call_df.nDiff.values),call_df.Close.values, p0=init_vals, bounds=bounds)"
   ],
   "outputs": [],
   "metadata": {}
  },
  {
   "cell_type": "code",
   "execution_count": null,
   "source": [
    "call_df['sigma'] = params_Mert[0][0]\r\n",
    "call_df['lam'] = params_Mert[0][1]\r\n",
    "call_df['m'] = params_Mert[0][2]\r\n",
    "call_df['v'] = params_Mert[0][3]"
   ],
   "outputs": [],
   "metadata": {}
  },
  {
   "cell_type": "code",
   "execution_count": null,
   "source": [
    "call_df = call_df.set_index('Date')\r\n",
    "call_df['merton'] = call_df.apply(merton_jump_call, axis=1)"
   ],
   "outputs": [],
   "metadata": {}
  },
  {
   "cell_type": "code",
   "execution_count": null,
   "source": [
    "sigma, lam, m, v = params_Mert\r\n",
    "size = (len(History),1)\r\n",
    "dt = 1/365\r\n",
    "\r\n",
    "poi_rv = np.multiply(np.random.poisson( lam*dt, size=size),\r\n",
    "                np.random.normal(m,v, size=size)).cumsum(axis=0)\r\n",
    "geo = np.cumsum((( -  sigma**2/2 -lam*(m  + v**2*0.5))*dt +\\\r\n",
    "                sigma*np.sqrt(dt) * \\\r\n",
    "                np.random.normal(size=size)), axis=0)\r\n",
    "S=np.exp(geo+poi_rv)*History[0].close\r\n",
    "S.to_csv('./Merton-stock')"
   ],
   "outputs": [],
   "metadata": {}
  },
  {
   "cell_type": "markdown",
   "source": [
    "# GA Calibration"
   ],
   "metadata": {}
  },
  {
   "cell_type": "code",
   "execution_count": null,
   "source": [
    "varbound = np.array([[0.01,1],[0.01,5],[0.01,1],[0.01,1]])\r\n",
    "\r\n",
    "algorithm_param = {'max_num_iteration': 3000,\\\r\n",
    "                   'population_size':500,\\\r\n",
    "                   'mutation_probability':0.1,\\\r\n",
    "                   'elit_ratio': 0.01,\\\r\n",
    "                   'crossover_probability': 0.5,\\\r\n",
    "                   'parents_portion': 0.3,\\\r\n",
    "                   'crossover_type':'uniform',\\\r\n",
    "                   'max_iteration_without_improv':25}"
   ],
   "outputs": [],
   "metadata": {}
  },
  {
   "cell_type": "code",
   "execution_count": null,
   "source": [
    "def GA_MERT(Y):\r\n",
    "    def f(x):\r\n",
    "    \r\n",
    "        sigma, lam, m, v = x\r\n",
    "        size = (len(Y),1)\r\n",
    "        dt = 1/365\r\n",
    "    \r\n",
    "        poi_rv = np.multiply(np.random.poisson( lam*dt, size=size),\r\n",
    "                         np.random.normal(m,v, size=size)).cumsum(axis=0)\r\n",
    "        geo = np.cumsum((( -  sigma**2/2 -lam*(m  + v**2*0.5))*dt +\\\r\n",
    "                              sigma*np.sqrt(dt) * \\\r\n",
    "                              np.random.normal(size=size)), axis=0)\r\n",
    "        S=np.exp(geo+poi_rv)*Y[0]\r\n",
    "        S.to_csv('./Merton-stock-GA')\r\n",
    "        return np.mean((S-Y)**2)\r\n",
    "    model=ga(function=f,\\\r\n",
    "            dimension=4,\\\r\n",
    "            variable_type='real',\\\r\n",
    "            variable_boundaries=varbound,\\\r\n",
    "            algorithm_parameters=algorithm_param,\r\n",
    "         convergence_curve=False,\r\n",
    "         progress_bar=True)\r\n",
    "\r\n",
    "    model.run()\r\n",
    "    return model.best_variable"
   ],
   "outputs": [],
   "metadata": {}
  },
  {
   "cell_type": "code",
   "execution_count": null,
   "source": [
    "call_df['merton-GA'] = call_df.apply(merton_jump_call, axis=1)"
   ],
   "outputs": [],
   "metadata": {}
  },
  {
   "cell_type": "markdown",
   "source": [
    "# Save dataframe"
   ],
   "metadata": {}
  },
  {
   "cell_type": "code",
   "execution_count": null,
   "source": [
    "\r\n",
    "call_df.to_csv('./Merton-input-output')"
   ],
   "outputs": [],
   "metadata": {}
  },
  {
   "cell_type": "markdown",
   "source": [
    "# Metrics"
   ],
   "metadata": {}
  },
  {
   "cell_type": "code",
   "execution_count": null,
   "source": [
    "from .utilties import utilties"
   ],
   "outputs": [],
   "metadata": {}
  },
  {
   "cell_type": "code",
   "execution_count": null,
   "source": [
    "line1 = utilties.error_metrics(call_df['Close'], call_df['merton'])"
   ],
   "outputs": [],
   "metadata": {}
  },
  {
   "cell_type": "code",
   "execution_count": null,
   "source": [
    "line2 = utilties.error_metrics(call_df['Close'], call_df['merton-GA'])"
   ],
   "outputs": [],
   "metadata": {}
  },
  {
   "cell_type": "code",
   "execution_count": null,
   "source": [
    "for line in ([*line1], [*line2]):\r\n",
    "  print('& {:.2f} & {:.2f}\\% & {:.2f}\\% & {:.2f}\\% & {:.2f}\\% & {:.2f}\\% & {:.2f}\\% \\\\\\\\'.format(*line))"
   ],
   "outputs": [],
   "metadata": {}
  }
 ],
 "metadata": {
  "kernelspec": {
   "display_name": "Python 3",
   "language": "python",
   "name": "python3"
  },
  "language_info": {
   "codemirror_mode": {
    "name": "ipython",
    "version": 3
   },
   "file_extension": ".py",
   "mimetype": "text/x-python",
   "name": "python",
   "nbconvert_exporter": "python",
   "pygments_lexer": "ipython3",
   "version": "3.8.8"
  }
 },
 "nbformat": 4,
 "nbformat_minor": 5
}